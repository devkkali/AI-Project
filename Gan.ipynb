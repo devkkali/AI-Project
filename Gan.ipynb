{
  "cells": [
    {
      "cell_type": "code",
      "execution_count": 1,
      "metadata": {
        "id": "37mwujP4zIcl"
      },
      "outputs": [],
      "source": [
        "import os\n",
        "import time\n",
        "from tensorflow.keras.preprocessing.text import Tokenizer\n",
        "from tensorflow.keras.preprocessing.sequence import pad_sequences\n",
        "from tensorflow import keras\n",
        "import numpy as np\n",
        "from tensorflow.keras.models import load_model\n",
        "import pickle\n",
        "from tensorflow.keras.optimizers import Adam"
      ]
    },
    {
      "cell_type": "code",
      "execution_count": 2,
      "metadata": {
        "colab": {
          "base_uri": "https://localhost:8080/",
          "height": 821
        },
        "id": "RSSizP_CzJF_",
        "outputId": "d752a01f-08d5-443c-dd53-67b39ef1d16c"
      },
      "outputs": [],
      "source": [
        "path = 'dataset/'\n",
        "conversations_file = 'movie_conversations.txt'\n",
        "lines_file = 'movie_lines.txt'\n",
        "\n",
        "\n",
        "# Specify the parent directory where you want to save the models\n",
        "parent_dir = \"model/gan_model\"\n",
        "\n",
        "# Get input from the user for the number\n",
        "number = input(\"Enter the number: \")\n",
        "\n",
        "# Create the folder name by concatenating \"model_\" with the number\n",
        "folder_name = f\"model_{number}\"\n",
        "\n",
        "# Create the full path for the new folder\n",
        "save_dir = os.path.join(parent_dir, folder_name)\n",
        "\n",
        "# Create the directory if it doesn't exist\n",
        "os.makedirs(save_dir, exist_ok=True)"
      ]
    },
    {
      "cell_type": "code",
      "execution_count": 3,
      "metadata": {
        "id": "NcR7LponzbgX"
      },
      "outputs": [],
      "source": [
        "subset_size = 50"
      ]
    },
    {
      "cell_type": "code",
      "execution_count": 4,
      "metadata": {
        "id": "VHZ4pHwW45Gb"
      },
      "outputs": [
        {
          "name": "stdout",
          "output_type": "stream",
          "text": [
            "Totla conversation_pairs 83097\n"
          ]
        }
      ],
      "source": [
        "# Load and preprocess the dataset\n",
        "def load_dataset():\n",
        "    conversations = open(path+conversations_file, 'r', encoding='utf-8', errors='ignore').read().split('\\n')\n",
        "    lines = open(path+lines_file, 'r', encoding='utf-8', errors='ignore').read().split('\\n')\n",
        "\n",
        "    id2line = {}\n",
        "    for line in lines:\n",
        "        parts = line.split(' +++$+++ ')\n",
        "        if len(parts) == 5:\n",
        "            id2line[parts[0]] = parts[4]\n",
        "\n",
        "    # print(id2line)\n",
        "\n",
        "    # if subset_size is not None:\n",
        "      # lines = lines(subset_size)\n",
        "\n",
        "\n",
        "    conversation_pairs = []\n",
        "    for conversation in conversations:\n",
        "        parts = conversation.split(' +++$+++ ')\n",
        "        if len(parts) == 4:\n",
        "            line_ids = parts[3][1:-1].replace(\"'\", \"\").replace(\" \", \"\").split(\",\")\n",
        "            pair = [id2line[line_id] for line_id in line_ids]\n",
        "            conversation_pairs.append(pair)\n",
        "\n",
        "    print('Totla conversation_pairs',len(conversation_pairs))\n",
        "    return conversation_pairs[:subset_size]\n",
        "    # return conversation_pairs\n",
        "\n",
        "conversation_pairs = load_dataset()"
      ]
    },
    {
      "cell_type": "code",
      "execution_count": 5,
      "metadata": {},
      "outputs": [
        {
          "data": {
            "text/plain": [
              "50"
            ]
          },
          "execution_count": 5,
          "metadata": {},
          "output_type": "execute_result"
        }
      ],
      "source": [
        "len(conversation_pairs)"
      ]
    },
    {
      "cell_type": "code",
      "execution_count": 6,
      "metadata": {
        "id": "-D6btG88OkBe"
      },
      "outputs": [],
      "source": [
        "# Prepare input and target sequences\n",
        "input_texts = []\n",
        "target_texts = []\n",
        "\n",
        "for pair in conversation_pairs:\n",
        "    for i in range(len(pair) - 1):\n",
        "        input_texts.append(pair[i])\n",
        "        target_texts.append(pair[i + 1])"
      ]
    },
    {
      "cell_type": "code",
      "execution_count": 7,
      "metadata": {
        "id": "sSFcQyV4PAVt"
      },
      "outputs": [
        {
          "data": {
            "text/plain": [
              "50"
            ]
          },
          "execution_count": 7,
          "metadata": {},
          "output_type": "execute_result"
        }
      ],
      "source": [
        "len(conversation_pairs)"
      ]
    },
    {
      "cell_type": "code",
      "execution_count": 8,
      "metadata": {
        "id": "TXqEpsaJOuM5"
      },
      "outputs": [
        {
          "name": "stdout",
          "output_type": "stream",
          "text": [
            "Can we make this quick?  Roxanne Korrine and Andrew Barrett are having an incredibly horrendous public break- up on the quad.  Again.\n",
            "Well, I thought we'd start with pronunciation, if that's okay with you.\n"
          ]
        }
      ],
      "source": [
        "print(input_texts[0])\n",
        "print(target_texts[0])"
      ]
    },
    {
      "cell_type": "code",
      "execution_count": 9,
      "metadata": {
        "id": "4eU4Jo83lowp"
      },
      "outputs": [],
      "source": [
        "# Tokenize the text\n",
        "tokenizer = Tokenizer()\n",
        "tokenizer.fit_on_texts(input_texts + target_texts)\n",
        "vocab_size = len(tokenizer.word_index) + 1"
      ]
    },
    {
      "cell_type": "code",
      "execution_count": 10,
      "metadata": {
        "id": "VS06x1aGluDq"
      },
      "outputs": [
        {
          "data": {
            "text/plain": [
              "465"
            ]
          },
          "execution_count": 10,
          "metadata": {},
          "output_type": "execute_result"
        }
      ],
      "source": [
        "vocab_size"
      ]
    },
    {
      "cell_type": "code",
      "execution_count": 11,
      "metadata": {
        "id": "XJYw-yywmkxg"
      },
      "outputs": [],
      "source": [
        "input_sequences = tokenizer.texts_to_sequences(input_texts)\n",
        "target_sequences = tokenizer.texts_to_sequences(target_texts)"
      ]
    },
    {
      "cell_type": "code",
      "execution_count": 12,
      "metadata": {
        "id": "DeFm8RrumuoO"
      },
      "outputs": [
        {
          "data": {
            "text/plain": [
              "22"
            ]
          },
          "execution_count": 12,
          "metadata": {},
          "output_type": "execute_result"
        }
      ],
      "source": [
        "len(input_sequences[0])"
      ]
    },
    {
      "cell_type": "code",
      "execution_count": 13,
      "metadata": {
        "id": "ZbdRQEjrml2P"
      },
      "outputs": [],
      "source": [
        "# Pad sequences\n",
        "max_sequence_length = max(max(len(seq) for seq in input_sequences), max(len(seq) for seq in target_sequences))\n",
        "input_sequences = pad_sequences(input_sequences, maxlen=max_sequence_length, padding='post')\n",
        "target_sequences = pad_sequences(target_sequences, maxlen=max_sequence_length, padding='post')"
      ]
    },
    {
      "cell_type": "code",
      "execution_count": 14,
      "metadata": {
        "id": "cVM7EJE_m5fq"
      },
      "outputs": [
        {
          "data": {
            "text/plain": [
              "44"
            ]
          },
          "execution_count": 14,
          "metadata": {},
          "output_type": "execute_result"
        }
      ],
      "source": [
        "len(input_sequences[0])"
      ]
    },
    {
      "cell_type": "code",
      "execution_count": 15,
      "metadata": {
        "id": "T3bpwOsUnLTj"
      },
      "outputs": [],
      "source": [
        "# Prepare the training data\n",
        "encoder_input_data = input_sequences\n",
        "decoder_input_data = target_sequences[:, :-1]\n",
        "decoder_target_data = target_sequences[:, 1:]"
      ]
    },
    {
      "cell_type": "code",
      "execution_count": 16,
      "metadata": {
        "id": "PqTjJ3Fkn5NT"
      },
      "outputs": [],
      "source": [
        "# Define the Generator network\n",
        "latent_dim = 256\n",
        "\n",
        "generator_inputs = keras.Input(shape=(max_sequence_length-1,))\n",
        "generator_embedding = keras.layers.Embedding(vocab_size, latent_dim)(generator_inputs)\n",
        "generator_lstm = keras.layers.LSTM(10, return_sequences=True)(generator_embedding)\n",
        "generator_outputs = keras.layers.TimeDistributed(keras.layers.Dense(vocab_size, activation='softmax'))(generator_lstm)\n",
        "generator_model = keras.Model(generator_inputs, generator_outputs)\n"
      ]
    },
    {
      "cell_type": "code",
      "execution_count": 17,
      "metadata": {
        "id": "7Hq9r8WHqiSd"
      },
      "outputs": [
        {
          "name": "stdout",
          "output_type": "stream",
          "text": [
            "Model: \"model\"\n",
            "_________________________________________________________________\n",
            " Layer (type)                Output Shape              Param #   \n",
            "=================================================================\n",
            " input_1 (InputLayer)        [(None, 43)]              0         \n",
            "                                                                 \n",
            " embedding (Embedding)       (None, 43, 256)           119040    \n",
            "                                                                 \n",
            " lstm (LSTM)                 (None, 43, 10)            10680     \n",
            "                                                                 \n",
            " time_distributed (TimeDistr  (None, 43, 465)          5115      \n",
            " ibuted)                                                         \n",
            "                                                                 \n",
            "=================================================================\n",
            "Total params: 134,835\n",
            "Trainable params: 134,835\n",
            "Non-trainable params: 0\n",
            "_________________________________________________________________\n",
            "None\n",
            "Generator Output Shape: (None, 43, 465)\n"
          ]
        }
      ],
      "source": [
        "print(generator_model.summary())\n",
        "output_shape = generator_model.output_shape\n",
        "print(\"Generator Output Shape:\", output_shape)"
      ]
    },
    {
      "cell_type": "code",
      "execution_count": 18,
      "metadata": {
        "id": "VnB7cd8QoAO6"
      },
      "outputs": [],
      "source": [
        "# # Define the Discriminator network\n",
        "discriminator_inputs = keras.Input(shape=(max_sequence_length-1,vocab_size))\n",
        "# discriminator_embedding = keras.layers.Embedding(vocab_size, latent_dim)(discriminator_inputs)\n",
        "# discriminator_lstm = keras.layers.LSTM(128)(discriminator_inputs)\n",
        "discriminator_lstm = keras.layers.LSTM(10)(discriminator_inputs)\n",
        "# discriminator_lstm = keras.layers.LSTM(30)(discriminator_lstm)\n",
        "discriminator_outputs = keras.layers.Dense(1, activation='sigmoid')(discriminator_lstm)\n",
        "\n",
        "discriminator_model = keras.Model(discriminator_inputs, discriminator_outputs)\n",
        "\n",
        "\n",
        "# inputs = keras.Input(shape=(max_sequence_length-1,))\n",
        "# embedding = keras.layers.Embedding(vocab_size, latent_dim, input_length=max_sequence_length)(inputs)\n",
        "# lstm = keras.layers.LSTM(10, return_sequences=True)(embedding)\n",
        "# flatten = keras.layers.Flatten()(lstm)\n",
        "# output = keras.layers.Dense(1, activation='sigmoid')(flatten)\n",
        "\n",
        "# discriminator_model = keras.Model(inputs=inputs, outputs=output)\n",
        "\n"
      ]
    },
    {
      "cell_type": "code",
      "execution_count": 19,
      "metadata": {
        "id": "6zZxcfVDq3rA"
      },
      "outputs": [
        {
          "name": "stdout",
          "output_type": "stream",
          "text": [
            "Model: \"model_1\"\n",
            "_________________________________________________________________\n",
            " Layer (type)                Output Shape              Param #   \n",
            "=================================================================\n",
            " input_2 (InputLayer)        [(None, 43, 465)]         0         \n",
            "                                                                 \n",
            " lstm_1 (LSTM)               (None, 10)                19040     \n",
            "                                                                 \n",
            " dense_1 (Dense)             (None, 1)                 11        \n",
            "                                                                 \n",
            "=================================================================\n",
            "Total params: 19,051\n",
            "Trainable params: 19,051\n",
            "Non-trainable params: 0\n",
            "_________________________________________________________________\n",
            "None\n",
            "Discriminator Input Shape: (None, 43, 465)\n"
          ]
        }
      ],
      "source": [
        "print(discriminator_model.summary())\n",
        "input_shape = discriminator_model.input_shape\n",
        "print(\"Discriminator Input Shape:\", input_shape)"
      ]
    },
    {
      "cell_type": "code",
      "execution_count": 20,
      "metadata": {
        "id": "-E-JaFDPFoYJ"
      },
      "outputs": [],
      "source": [
        "# Define the GAN model\n",
        "gan_inputs = keras.Input(shape=(max_sequence_length-1,))\n",
        "generated_sequences = generator_model(gan_inputs)\n",
        "gan_outputs = discriminator_model(generated_sequences)\n",
        "gan_model = keras.Model(gan_inputs, gan_outputs)"
      ]
    },
    {
      "cell_type": "code",
      "execution_count": 21,
      "metadata": {
        "id": "VpB-b4gGHdUh"
      },
      "outputs": [],
      "source": [
        "# Compile the Discriminator model\n",
        "discriminator_model.compile(loss='binary_crossentropy', optimizer='adam')\n",
        "\n",
        "# Compile the GAN model\n",
        "gan_model.compile(loss='binary_crossentropy', optimizer='adam')"
      ]
    },
    {
      "cell_type": "code",
      "execution_count": 22,
      "metadata": {
        "id": "tn2UpVNVun1W"
      },
      "outputs": [],
      "source": [
        "# Training parameters\n",
        "batch_size = 64\n",
        "epochs = 100"
      ]
    },
    {
      "cell_type": "code",
      "execution_count": 23,
      "metadata": {
        "id": "mxOo9CmHi3Hy"
      },
      "outputs": [],
      "source": [
        "real_data=encoder_input_data"
      ]
    },
    {
      "cell_type": "code",
      "execution_count": 24,
      "metadata": {
        "id": "e0jjDYlK3r_O"
      },
      "outputs": [
        {
          "name": "stdout",
          "output_type": "stream",
          "text": [
            "2/2 [==============================] - 1s 7ms/step\n",
            "1/1 [==============================] - 0s 358ms/step\n",
            "Epoch 1: Discriminator Loss=0.6912660598754883, GAN Loss=0.6956967711448669\n",
            "2/2 [==============================] - 0s 7ms/step\n",
            "1/1 [==============================] - 0s 358ms/step\n",
            "Epoch 2: Discriminator Loss=0.6896840333938599, GAN Loss=0.6937199234962463\n",
            "WARNING:tensorflow:5 out of the last 7 calls to <function Model.make_predict_function.<locals>.predict_function at 0x000001BAE28FB880> triggered tf.function retracing. Tracing is expensive and the excessive number of tracings could be due to (1) creating @tf.function repeatedly in a loop, (2) passing tensors with different shapes, (3) passing Python objects instead of tensors. For (1), please define your @tf.function outside of the loop. For (2), @tf.function has reduce_retracing=True option that can avoid unnecessary retracing. For (3), please refer to https://www.tensorflow.org/guide/function#controlling_retracing and https://www.tensorflow.org/api_docs/python/tf/function for  more details.\n",
            "2/2 [==============================] - 0s 6ms/step\n",
            "WARNING:tensorflow:6 out of the last 9 calls to <function Model.make_predict_function.<locals>.predict_function at 0x000001BAE28FB880> triggered tf.function retracing. Tracing is expensive and the excessive number of tracings could be due to (1) creating @tf.function repeatedly in a loop, (2) passing tensors with different shapes, (3) passing Python objects instead of tensors. For (1), please define your @tf.function outside of the loop. For (2), @tf.function has reduce_retracing=True option that can avoid unnecessary retracing. For (3), please refer to https://www.tensorflow.org/guide/function#controlling_retracing and https://www.tensorflow.org/api_docs/python/tf/function for  more details.\n",
            "1/1 [==============================] - 0s 356ms/step\n",
            "Epoch 3: Discriminator Loss=0.689294159412384, GAN Loss=0.688646674156189\n",
            "2/2 [==============================] - 0s 5ms/step\n",
            "1/1 [==============================] - 0s 353ms/step\n",
            "Epoch 4: Discriminator Loss=0.6889013051986694, GAN Loss=0.6839730739593506\n",
            "2/2 [==============================] - 0s 5ms/step\n",
            "1/1 [==============================] - 0s 357ms/step\n",
            "Epoch 5: Discriminator Loss=0.6883232593536377, GAN Loss=0.6783967018127441\n",
            "2/2 [==============================] - 0s 7ms/step\n",
            "1/1 [==============================] - 0s 356ms/step\n",
            "Epoch 6: Discriminator Loss=0.6873670220375061, GAN Loss=0.6734932661056519\n",
            "2/2 [==============================] - 0s 5ms/step\n",
            "1/1 [==============================] - 0s 355ms/step\n",
            "Epoch 7: Discriminator Loss=0.6863397359848022, GAN Loss=0.6680924892425537\n",
            "2/2 [==============================] - 0s 6ms/step\n",
            "1/1 [==============================] - 0s 356ms/step\n",
            "Epoch 8: Discriminator Loss=0.6842513084411621, GAN Loss=0.6618421077728271\n",
            "2/2 [==============================] - 0s 6ms/step\n",
            "1/1 [==============================] - 0s 363ms/step\n",
            "Epoch 9: Discriminator Loss=0.6816513538360596, GAN Loss=0.6549659967422485\n",
            "2/2 [==============================] - 0s 6ms/step\n",
            "1/1 [==============================] - 0s 357ms/step\n",
            "Epoch 10: Discriminator Loss=0.6786863207817078, GAN Loss=0.6486729383468628\n",
            "2/2 [==============================] - 0s 7ms/step\n",
            "1/1 [==============================] - 0s 337ms/step\n",
            "Epoch 11: Discriminator Loss=0.6749143004417419, GAN Loss=0.6428980827331543\n",
            "2/2 [==============================] - 0s 6ms/step\n",
            "1/1 [==============================] - 0s 406ms/step\n",
            "Epoch 12: Discriminator Loss=0.666480302810669, GAN Loss=0.6362019181251526\n",
            "2/2 [==============================] - 0s 7ms/step\n",
            "1/1 [==============================] - 0s 388ms/step\n"
          ]
        },
        {
          "ename": "KeyboardInterrupt",
          "evalue": "",
          "output_type": "error",
          "traceback": [
            "\u001b[1;31m---------------------------------------------------------------------------\u001b[0m",
            "\u001b[1;31mKeyboardInterrupt\u001b[0m                         Traceback (most recent call last)",
            "Cell \u001b[1;32mIn[24], line 39\u001b[0m\n\u001b[0;32m     37\u001b[0m     gan_noise \u001b[39m=\u001b[39m np\u001b[39m.\u001b[39mrandom\u001b[39m.\u001b[39mrandint(\u001b[39m0\u001b[39m, vocab_size, size\u001b[39m=\u001b[39m(batch_size, max_sequence_length\u001b[39m-\u001b[39m\u001b[39m1\u001b[39m))\n\u001b[0;32m     38\u001b[0m     gan_labels \u001b[39m=\u001b[39m np\u001b[39m.\u001b[39mones((batch_size, \u001b[39m1\u001b[39m))\n\u001b[1;32m---> 39\u001b[0m     gan_loss \u001b[39m=\u001b[39m gan_model\u001b[39m.\u001b[39;49mtrain_on_batch(gan_noise, gan_labels)\n\u001b[0;32m     41\u001b[0m \u001b[39m# Print the loss for each epoch\u001b[39;00m\n\u001b[0;32m     42\u001b[0m \u001b[39mprint\u001b[39m(\u001b[39mf\u001b[39m\u001b[39m\"\u001b[39m\u001b[39mEpoch \u001b[39m\u001b[39m{\u001b[39;00mepoch\u001b[39m+\u001b[39m\u001b[39m1\u001b[39m\u001b[39m}\u001b[39;00m\u001b[39m: Discriminator Loss=\u001b[39m\u001b[39m{\u001b[39;00mdiscriminator_loss\u001b[39m}\u001b[39;00m\u001b[39m, GAN Loss=\u001b[39m\u001b[39m{\u001b[39;00mgan_loss\u001b[39m}\u001b[39;00m\u001b[39m\"\u001b[39m)\n",
            "File \u001b[1;32mc:\\Users\\jorda\\anaconda3\\envs\\AI_Practicals\\lib\\site-packages\\keras\\engine\\training.py:2381\u001b[0m, in \u001b[0;36mModel.train_on_batch\u001b[1;34m(self, x, y, sample_weight, class_weight, reset_metrics, return_dict)\u001b[0m\n\u001b[0;32m   2377\u001b[0m     iterator \u001b[39m=\u001b[39m data_adapter\u001b[39m.\u001b[39msingle_batch_iterator(\n\u001b[0;32m   2378\u001b[0m         \u001b[39mself\u001b[39m\u001b[39m.\u001b[39mdistribute_strategy, x, y, sample_weight, class_weight\n\u001b[0;32m   2379\u001b[0m     )\n\u001b[0;32m   2380\u001b[0m     \u001b[39mself\u001b[39m\u001b[39m.\u001b[39mtrain_function \u001b[39m=\u001b[39m \u001b[39mself\u001b[39m\u001b[39m.\u001b[39mmake_train_function()\n\u001b[1;32m-> 2381\u001b[0m     logs \u001b[39m=\u001b[39m \u001b[39mself\u001b[39;49m\u001b[39m.\u001b[39;49mtrain_function(iterator)\n\u001b[0;32m   2383\u001b[0m logs \u001b[39m=\u001b[39m tf_utils\u001b[39m.\u001b[39msync_to_numpy_or_python_type(logs)\n\u001b[0;32m   2384\u001b[0m \u001b[39mif\u001b[39;00m return_dict:\n",
            "File \u001b[1;32mc:\\Users\\jorda\\anaconda3\\envs\\AI_Practicals\\lib\\site-packages\\tensorflow\\python\\util\\traceback_utils.py:150\u001b[0m, in \u001b[0;36mfilter_traceback.<locals>.error_handler\u001b[1;34m(*args, **kwargs)\u001b[0m\n\u001b[0;32m    148\u001b[0m filtered_tb \u001b[39m=\u001b[39m \u001b[39mNone\u001b[39;00m\n\u001b[0;32m    149\u001b[0m \u001b[39mtry\u001b[39;00m:\n\u001b[1;32m--> 150\u001b[0m   \u001b[39mreturn\u001b[39;00m fn(\u001b[39m*\u001b[39margs, \u001b[39m*\u001b[39m\u001b[39m*\u001b[39mkwargs)\n\u001b[0;32m    151\u001b[0m \u001b[39mexcept\u001b[39;00m \u001b[39mException\u001b[39;00m \u001b[39mas\u001b[39;00m e:\n\u001b[0;32m    152\u001b[0m   filtered_tb \u001b[39m=\u001b[39m _process_traceback_frames(e\u001b[39m.\u001b[39m__traceback__)\n",
            "File \u001b[1;32mc:\\Users\\jorda\\anaconda3\\envs\\AI_Practicals\\lib\\site-packages\\tensorflow\\python\\eager\\def_function.py:915\u001b[0m, in \u001b[0;36mFunction.__call__\u001b[1;34m(self, *args, **kwds)\u001b[0m\n\u001b[0;32m    912\u001b[0m compiler \u001b[39m=\u001b[39m \u001b[39m\"\u001b[39m\u001b[39mxla\u001b[39m\u001b[39m\"\u001b[39m \u001b[39mif\u001b[39;00m \u001b[39mself\u001b[39m\u001b[39m.\u001b[39m_jit_compile \u001b[39melse\u001b[39;00m \u001b[39m\"\u001b[39m\u001b[39mnonXla\u001b[39m\u001b[39m\"\u001b[39m\n\u001b[0;32m    914\u001b[0m \u001b[39mwith\u001b[39;00m OptionalXlaContext(\u001b[39mself\u001b[39m\u001b[39m.\u001b[39m_jit_compile):\n\u001b[1;32m--> 915\u001b[0m   result \u001b[39m=\u001b[39m \u001b[39mself\u001b[39m\u001b[39m.\u001b[39m_call(\u001b[39m*\u001b[39margs, \u001b[39m*\u001b[39m\u001b[39m*\u001b[39mkwds)\n\u001b[0;32m    917\u001b[0m new_tracing_count \u001b[39m=\u001b[39m \u001b[39mself\u001b[39m\u001b[39m.\u001b[39mexperimental_get_tracing_count()\n\u001b[0;32m    918\u001b[0m without_tracing \u001b[39m=\u001b[39m (tracing_count \u001b[39m==\u001b[39m new_tracing_count)\n",
            "File \u001b[1;32mc:\\Users\\jorda\\anaconda3\\envs\\AI_Practicals\\lib\\site-packages\\tensorflow\\python\\eager\\def_function.py:947\u001b[0m, in \u001b[0;36mFunction._call\u001b[1;34m(self, *args, **kwds)\u001b[0m\n\u001b[0;32m    944\u001b[0m   \u001b[39mself\u001b[39m\u001b[39m.\u001b[39m_lock\u001b[39m.\u001b[39mrelease()\n\u001b[0;32m    945\u001b[0m   \u001b[39m# In this case we have created variables on the first call, so we run the\u001b[39;00m\n\u001b[0;32m    946\u001b[0m   \u001b[39m# defunned version which is guaranteed to never create variables.\u001b[39;00m\n\u001b[1;32m--> 947\u001b[0m   \u001b[39mreturn\u001b[39;00m \u001b[39mself\u001b[39m\u001b[39m.\u001b[39m_stateless_fn(\u001b[39m*\u001b[39margs, \u001b[39m*\u001b[39m\u001b[39m*\u001b[39mkwds)  \u001b[39m# pylint: disable=not-callable\u001b[39;00m\n\u001b[0;32m    948\u001b[0m \u001b[39melif\u001b[39;00m \u001b[39mself\u001b[39m\u001b[39m.\u001b[39m_stateful_fn \u001b[39mis\u001b[39;00m \u001b[39mnot\u001b[39;00m \u001b[39mNone\u001b[39;00m:\n\u001b[0;32m    949\u001b[0m   \u001b[39m# Release the lock early so that multiple threads can perform the call\u001b[39;00m\n\u001b[0;32m    950\u001b[0m   \u001b[39m# in parallel.\u001b[39;00m\n\u001b[0;32m    951\u001b[0m   \u001b[39mself\u001b[39m\u001b[39m.\u001b[39m_lock\u001b[39m.\u001b[39mrelease()\n",
            "File \u001b[1;32mc:\\Users\\jorda\\anaconda3\\envs\\AI_Practicals\\lib\\site-packages\\tensorflow\\python\\eager\\function.py:2496\u001b[0m, in \u001b[0;36mFunction.__call__\u001b[1;34m(self, *args, **kwargs)\u001b[0m\n\u001b[0;32m   2493\u001b[0m \u001b[39mwith\u001b[39;00m \u001b[39mself\u001b[39m\u001b[39m.\u001b[39m_lock:\n\u001b[0;32m   2494\u001b[0m   (graph_function,\n\u001b[0;32m   2495\u001b[0m    filtered_flat_args) \u001b[39m=\u001b[39m \u001b[39mself\u001b[39m\u001b[39m.\u001b[39m_maybe_define_function(args, kwargs)\n\u001b[1;32m-> 2496\u001b[0m \u001b[39mreturn\u001b[39;00m graph_function\u001b[39m.\u001b[39;49m_call_flat(\n\u001b[0;32m   2497\u001b[0m     filtered_flat_args, captured_inputs\u001b[39m=\u001b[39;49mgraph_function\u001b[39m.\u001b[39;49mcaptured_inputs)\n",
            "File \u001b[1;32mc:\\Users\\jorda\\anaconda3\\envs\\AI_Practicals\\lib\\site-packages\\tensorflow\\python\\eager\\function.py:1862\u001b[0m, in \u001b[0;36mConcreteFunction._call_flat\u001b[1;34m(self, args, captured_inputs, cancellation_manager)\u001b[0m\n\u001b[0;32m   1858\u001b[0m possible_gradient_type \u001b[39m=\u001b[39m gradients_util\u001b[39m.\u001b[39mPossibleTapeGradientTypes(args)\n\u001b[0;32m   1859\u001b[0m \u001b[39mif\u001b[39;00m (possible_gradient_type \u001b[39m==\u001b[39m gradients_util\u001b[39m.\u001b[39mPOSSIBLE_GRADIENT_TYPES_NONE\n\u001b[0;32m   1860\u001b[0m     \u001b[39mand\u001b[39;00m executing_eagerly):\n\u001b[0;32m   1861\u001b[0m   \u001b[39m# No tape is watching; skip to running the function.\u001b[39;00m\n\u001b[1;32m-> 1862\u001b[0m   \u001b[39mreturn\u001b[39;00m \u001b[39mself\u001b[39m\u001b[39m.\u001b[39m_build_call_outputs(\u001b[39mself\u001b[39;49m\u001b[39m.\u001b[39;49m_inference_function\u001b[39m.\u001b[39;49mcall(\n\u001b[0;32m   1863\u001b[0m       ctx, args, cancellation_manager\u001b[39m=\u001b[39;49mcancellation_manager))\n\u001b[0;32m   1864\u001b[0m forward_backward \u001b[39m=\u001b[39m \u001b[39mself\u001b[39m\u001b[39m.\u001b[39m_select_forward_and_backward_functions(\n\u001b[0;32m   1865\u001b[0m     args,\n\u001b[0;32m   1866\u001b[0m     possible_gradient_type,\n\u001b[0;32m   1867\u001b[0m     executing_eagerly)\n\u001b[0;32m   1868\u001b[0m forward_function, args_with_tangents \u001b[39m=\u001b[39m forward_backward\u001b[39m.\u001b[39mforward()\n",
            "File \u001b[1;32mc:\\Users\\jorda\\anaconda3\\envs\\AI_Practicals\\lib\\site-packages\\tensorflow\\python\\eager\\function.py:499\u001b[0m, in \u001b[0;36m_EagerDefinedFunction.call\u001b[1;34m(self, ctx, args, cancellation_manager)\u001b[0m\n\u001b[0;32m    497\u001b[0m \u001b[39mwith\u001b[39;00m _InterpolateFunctionError(\u001b[39mself\u001b[39m):\n\u001b[0;32m    498\u001b[0m   \u001b[39mif\u001b[39;00m cancellation_manager \u001b[39mis\u001b[39;00m \u001b[39mNone\u001b[39;00m:\n\u001b[1;32m--> 499\u001b[0m     outputs \u001b[39m=\u001b[39m execute\u001b[39m.\u001b[39;49mexecute(\n\u001b[0;32m    500\u001b[0m         \u001b[39mstr\u001b[39;49m(\u001b[39mself\u001b[39;49m\u001b[39m.\u001b[39;49msignature\u001b[39m.\u001b[39;49mname),\n\u001b[0;32m    501\u001b[0m         num_outputs\u001b[39m=\u001b[39;49m\u001b[39mself\u001b[39;49m\u001b[39m.\u001b[39;49m_num_outputs,\n\u001b[0;32m    502\u001b[0m         inputs\u001b[39m=\u001b[39;49margs,\n\u001b[0;32m    503\u001b[0m         attrs\u001b[39m=\u001b[39;49mattrs,\n\u001b[0;32m    504\u001b[0m         ctx\u001b[39m=\u001b[39;49mctx)\n\u001b[0;32m    505\u001b[0m   \u001b[39melse\u001b[39;00m:\n\u001b[0;32m    506\u001b[0m     outputs \u001b[39m=\u001b[39m execute\u001b[39m.\u001b[39mexecute_with_cancellation(\n\u001b[0;32m    507\u001b[0m         \u001b[39mstr\u001b[39m(\u001b[39mself\u001b[39m\u001b[39m.\u001b[39msignature\u001b[39m.\u001b[39mname),\n\u001b[0;32m    508\u001b[0m         num_outputs\u001b[39m=\u001b[39m\u001b[39mself\u001b[39m\u001b[39m.\u001b[39m_num_outputs,\n\u001b[1;32m   (...)\u001b[0m\n\u001b[0;32m    511\u001b[0m         ctx\u001b[39m=\u001b[39mctx,\n\u001b[0;32m    512\u001b[0m         cancellation_manager\u001b[39m=\u001b[39mcancellation_manager)\n",
            "File \u001b[1;32mc:\\Users\\jorda\\anaconda3\\envs\\AI_Practicals\\lib\\site-packages\\tensorflow\\python\\eager\\execute.py:54\u001b[0m, in \u001b[0;36mquick_execute\u001b[1;34m(op_name, num_outputs, inputs, attrs, ctx, name)\u001b[0m\n\u001b[0;32m     52\u001b[0m \u001b[39mtry\u001b[39;00m:\n\u001b[0;32m     53\u001b[0m   ctx\u001b[39m.\u001b[39mensure_initialized()\n\u001b[1;32m---> 54\u001b[0m   tensors \u001b[39m=\u001b[39m pywrap_tfe\u001b[39m.\u001b[39;49mTFE_Py_Execute(ctx\u001b[39m.\u001b[39;49m_handle, device_name, op_name,\n\u001b[0;32m     55\u001b[0m                                       inputs, attrs, num_outputs)\n\u001b[0;32m     56\u001b[0m \u001b[39mexcept\u001b[39;00m core\u001b[39m.\u001b[39m_NotOkStatusException \u001b[39mas\u001b[39;00m e:\n\u001b[0;32m     57\u001b[0m   \u001b[39mif\u001b[39;00m name \u001b[39mis\u001b[39;00m \u001b[39mnot\u001b[39;00m \u001b[39mNone\u001b[39;00m:\n",
            "\u001b[1;31mKeyboardInterrupt\u001b[0m: "
          ]
        }
      ],
      "source": [
        "# Training loop\n",
        "for epoch in range(epochs):\n",
        "    for batch in range(0, len(real_data), batch_size):\n",
        "        real_batch = real_data[batch:batch+batch_size]\n",
        "        real_batch = np.expand_dims(real_batch, axis=2)\n",
        "        real_batch = np.repeat(real_batch, 465, axis=2)  # Adjust the third dimension to match fake_data\n",
        "        real_labels = np.ones((len(real_batch), 1))\n",
        "\n",
        "        # Generate fake data using the Generator model\n",
        "        noise = np.random.randint(0, vocab_size, size=(len(real_batch), max_sequence_length-1))\n",
        "        fake_batch = generator_model.predict(noise)\n",
        "        fake_batch = fake_batch[:, :max_sequence_length-1, :]\n",
        "        fake_labels = np.zeros((len(fake_batch), 1))\n",
        "\n",
        "        # Adjust the size of real_batch\n",
        "        real_batch = real_batch[:, :max_sequence_length-1, :]\n",
        "\n",
        "        # Reshape the fake_batch to match the dimensions of real_batch\n",
        "        fake_batch = np.squeeze(fake_batch)\n",
        "\n",
        "        # Combine real and fake data\n",
        "        combined_data = np.concatenate((real_batch, fake_batch[:-1, :]), axis=0)\n",
        "        combined_labels = np.concatenate((real_labels, fake_labels), axis=0)\n",
        "\n",
        "        # Shuffle the combined data and labels\n",
        "        # combined_data, combined_labels = shuffle(combined_data, combined_labels)\n",
        "\n",
        "        # Train the Discriminator\n",
        "        num_samples = combined_data.shape[0]\n",
        "        if batch_size > num_samples:\n",
        "            indices = np.arange(num_samples)\n",
        "        else:\n",
        "            indices = np.random.choice(num_samples, batch_size, replace=False)\n",
        "        discriminator_loss = discriminator_model.train_on_batch(combined_data[indices], combined_labels[indices])\n",
        "\n",
        "        # Train the Generator (via GAN)\n",
        "        gan_noise = np.random.randint(0, vocab_size, size=(batch_size, max_sequence_length-1))\n",
        "        gan_labels = np.ones((batch_size, 1))\n",
        "        gan_loss = gan_model.train_on_batch(gan_noise, gan_labels)\n",
        "\n",
        "    # Print the loss for each epoch\n",
        "    print(f\"Epoch {epoch+1}: Discriminator Loss={discriminator_loss}, GAN Loss={gan_loss}\")\n",
        "    # Save the Generator model\n",
        "    # Define the optimizer and loss function\n",
        "    optimizer = Adam()\n",
        "    loss_function = \"binary_crossentropy\"\n",
        "\n",
        "    # Compile the Generator model\n",
        "    generator_model.compile(optimizer=optimizer, loss=loss_function)\n",
        "\n",
        "    # Save the compiled Generator model\n",
        "    generator_model.save(os.path.join(save_dir, \"generator_model_compiled.h5\"))\n",
        "\n",
        "    tokenizer_data = {\n",
        "        'tokenizer': tokenizer,\n",
        "        'max_sequence_length': max_sequence_length\n",
        "    }\n",
        "\n",
        "    # Save the Tokenizer\n",
        "    with open(os.path.join(save_dir, \"tokenizer.pkl\"), \"wb\") as tokenizer_file:\n",
        "        pickle.dump(tokenizer_data, tokenizer_file)\n",
        "\n",
        "    \n",
        "    # Update TensorBoard metrics after each epoch\n",
        "    # tensorboard_callback.on_epoch_end(epoch, logs={'discriminator_loss': discriminator_loss, 'gan_loss': gan_loss})\n",
        "\n"
      ]
    },
    {
      "cell_type": "code",
      "execution_count": null,
      "metadata": {
        "id": "-k4Mjhu5iKrt"
      },
      "outputs": [],
      "source": [
        "# # Start the TensorBoard server\n",
        "# tensorboard.program.TensorBoard(\n",
        "#     logdir=log_dir,\n",
        "#     host=\"localhost\",\n",
        "#     port=6006,\n",
        "#     reload_interval=5  # Refresh the TensorBoard server every 5 seconds\n",
        "# ).main()"
      ]
    },
    {
      "cell_type": "code",
      "execution_count": null,
      "metadata": {
        "id": "koUTanqi7LKI"
      },
      "outputs": [],
      "source": [
        "def preprocess_input(user_input):\n",
        "    # Tokenize the user input\n",
        "    tokens = user_input.strip().split()\n",
        "\n",
        "    # Convert tokens to lowercase\n",
        "    tokens = [token.lower() for token in tokens]\n",
        "\n",
        "    # Perform any additional preprocessing steps\n",
        "    # ...\n",
        "\n",
        "    # Return the preprocessed input\n",
        "    return tokens\n",
        "\n",
        "\n",
        "def generate_response(input_tokens, generator_model):\n",
        "    # Convert input tokens to numerical representation\n",
        "    input_sequence = tokenizer.texts_to_sequences([input_tokens])\n",
        "    input_sequence = pad_sequences(input_sequence, maxlen=max_sequence_length-1)\n",
        "    # Generate response using the generator model\n",
        "    generated_sequence = generator_model.predict(input_sequence)\n",
        "    print('generated_sequence generated_sequence:',generated_sequence)\n",
        "\n",
        "    # Convert numerical representation back to tokens\n",
        "    # generated_tokens = tokenizer.sequences_to_texts(generated_sequence)[0].split()\n",
        "\n",
        "    generated_tokens = [tokenizer.index_word.get(index, \"\") for index in np.argmax(generated_sequence, axis=-1)[0]]\n",
        "    generated_tokens = [token for token in generated_tokens if token]\n",
        "\n",
        "    print('generated_sequence function:',generated_tokens)\n",
        "\n",
        "    # Return the generated response tokens\n",
        "    return generated_tokens\n",
        "\n",
        "\n",
        "def postprocess_response(response_tokens):\n",
        "    # Convert tokens to string\n",
        "    response_text = ' '.join(response_tokens)\n",
        "\n",
        "    # Perform any postprocessing steps, such as capitalization or punctuation handling\n",
        "    # ...\n",
        "\n",
        "    # Return the postprocessed response\n",
        "    return response_text\n"
      ]
    },
    {
      "cell_type": "code",
      "execution_count": null,
      "metadata": {
        "id": "BGuruuWQHgKf"
      },
      "outputs": [],
      "source": [
        "while True:\n",
        "    user_input = input(\"User: \")\n",
        "    if user_input.lower() == \"exit\":\n",
        "        break\n",
        "\n",
        "    # Preprocess user input\n",
        "    processed_input = preprocess_input(user_input)\n",
        "\n",
        "    # Generate response using the generator model\n",
        "    generated_response = generate_response(processed_input, generator_model)\n",
        "    print('generated response',generated_response)\n",
        "\n",
        "    # Postprocess and display the generated response\n",
        "    response = postprocess_response(generated_response)\n",
        "    print(\"Chatbot: \" + response)\n"
      ]
    },
    {
      "cell_type": "code",
      "execution_count": null,
      "metadata": {},
      "outputs": [],
      "source": []
    }
  ],
  "metadata": {
    "colab": {
      "provenance": []
    },
    "kernelspec": {
      "display_name": "Python 3",
      "name": "python3"
    },
    "language_info": {
      "codemirror_mode": {
        "name": "ipython",
        "version": 3
      },
      "file_extension": ".py",
      "mimetype": "text/x-python",
      "name": "python",
      "nbconvert_exporter": "python",
      "pygments_lexer": "ipython3",
      "version": "3.10.11"
    }
  },
  "nbformat": 4,
  "nbformat_minor": 0
}
